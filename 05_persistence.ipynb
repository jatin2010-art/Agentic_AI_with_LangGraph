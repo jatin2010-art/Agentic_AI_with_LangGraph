{
 "cells": [
  {
   "cell_type": "markdown",
   "id": "fc0ca66b",
   "metadata": {},
   "source": [
    "**Persistence** in LangGraph refers to the ability to save and restore the\n",
    "state of a workflow over time. It not just store the initial and  final state but also the intermediate state. It is implemented with the help of **checkpointers**. **Threads** in Persistence helps by assigning Thread ID to each instance of the workflow to retrive that.\n",
    "\n",
    "Examples:- \n",
    "- we can start from the intermediate state in case of crash instead of starting from the initial, this feature is called the **Fault Tolerance**.\n",
    "- helps in resuming conversation with chatbot from past conversation by saving the intermediate state into the database.\n",
    "- helps in storing and retriving the past conversation to resume the conversation. It is called **Short Term Memory**\n",
    "- To make the Agentic AI to wait for human response before execution, it is called **Human In the Loop**. It work the same way as fault tolerance by knowingly done.\n",
    "- **Time Travel**: we can replay or execute the workflow from any intermediate checkpoint when there is no error or failure. It helps in debugging."
   ]
  },
  {
   "cell_type": "code",
   "execution_count": 1,
   "id": "a1093470",
   "metadata": {},
   "outputs": [
    {
     "data": {
      "image/png": "[encoded data removed]",
      "text/plain": [
       "<langgraph.graph.state.CompiledStateGraph object at 0x000001BF56EF5670>"
      ]
     },
     "execution_count": 1,
     "metadata": {},
     "output_type": "execute_result"
    }
   ],
   "source": [
    "# Importing Libraries\n",
    "from langgraph.graph import StateGraph, START, END\n",
    "from typing import TypedDict\n",
    "from langchain_openai import ChatOpenAI\n",
    "from dotenv import load_dotenv\n",
    "from langgraph.checkpoint.memory import InMemorySaver\n",
    "import time\n",
    "# InMemorySaver is used for checkpointers.\n",
    "\n",
    "# Loading LLM\n",
    "load_dotenv()\n",
    "llm = ChatOpenAI()\n",
    "\n",
    "# state\n",
    "class JokeState(TypedDict):\n",
    "    topic: str\n",
    "    joke: str\n",
    "    explanation: str\n",
    "\n",
    "# Function\n",
    "def generate_joke(state: JokeState):\n",
    "    prompt = f'generate a joke on the topic {state[\"topic\"]}'\n",
    "    response = llm.invoke(prompt).content\n",
    "    return {'joke': response}\n",
    "\n",
    "def generate_explanation(state: JokeState):\n",
    "    prompt = f'write an explanation for the joke - {state[\"joke\"]}'\n",
    "    response = llm.invoke(prompt).content\n",
    "    return {'explanation': response}\n",
    "\n",
    "# Graph and WorkFlow\n",
    "graph = StateGraph(JokeState)\n",
    "graph.add_node('generate_joke', generate_joke)\n",
    "graph.add_node('generate_explanation', generate_explanation)\n",
    "\n",
    "graph.add_edge(START, 'generate_joke')\n",
    "graph.add_edge('generate_joke', 'generate_explanation')\n",
    "graph.add_edge('generate_explanation', END)\n",
    "\n",
    "# Creating checkpointer object\n",
    "checkpointer = InMemorySaver()\n",
    "\n",
    "# pass the checkpointer object at the compilation to add checkpointer at each step\n",
    "workflow = graph.compile(checkpointer=checkpointer)\n",
    "workflow"
   ]
  },
  {
   "cell_type": "code",
   "execution_count": 2,
   "id": "a6857b9c",
   "metadata": {},
   "outputs": [
    {
     "name": "stdout",
     "output_type": "stream",
     "text": [
      "\n",
      "********************\n",
      "\n",
      "StateSnapshot(values={'topic': 'pizza', 'joke': 'Why did the pizza go to the therapist? Because it was feeling saucy and needed to get a little slice of advice!', 'explanation': 'This joke is a play on words using a pun. In this case, \"saucy\" is a term that can mean bold, sassy, or impudent, but it also refers to the sauce on a pizza. The joke implies that the pizza needed to see a therapist because it was feeling bold and needed some advice, but also because it was made of sauce and needed a slice (piece) of advice. The humor comes from the double meaning of \"saucy\" and the pun on \"slice\" of advice. Overall, it\\'s a light-hearted and silly joke meant to make you chuckle.'}, next=(), config={'configurable': {'thread_id': '1', 'checkpoint_ns': '', 'checkpoint_id': '1f06efcb-5e45-66b7-8002-9ae265986819'}}, metadata={'source': 'loop', 'step': 2, 'parents': {}}, created_at='2025-08-01T17:26:51.093983+00:00', parent_config={'configurable': {'thread_id': '1', 'checkpoint_ns': '', 'checkpoint_id': '1f06efcb-4dc2-61ee-8001-374f24badecf'}}, tasks=(), interrupts=())\n",
      "\n",
      "********************\n",
      "\n"
     ]
    },
    {
     "data": {
      "text/plain": [
       "[StateSnapshot(values={'topic': 'pizza', 'joke': 'Why did the pizza go to the therapist? Because it was feeling saucy and needed to get a little slice of advice!', 'explanation': 'This joke is a play on words using a pun. In this case, \"saucy\" is a term that can mean bold, sassy, or impudent, but it also refers to the sauce on a pizza. The joke implies that the pizza needed to see a therapist because it was feeling bold and needed some advice, but also because it was made of sauce and needed a slice (piece) of advice. The humor comes from the double meaning of \"saucy\" and the pun on \"slice\" of advice. Overall, it\\'s a light-hearted and silly joke meant to make you chuckle.'}, next=(), config={'configurable': {'thread_id': '1', 'checkpoint_ns': '', 'checkpoint_id': '1f06efcb-5e45-66b7-8002-9ae265986819'}}, metadata={'source': 'loop', 'step': 2, 'parents': {}}, created_at='2025-08-01T17:26:51.093983+00:00', parent_config={'configurable': {'thread_id': '1', 'checkpoint_ns': '', 'checkpoint_id': '1f06efcb-4dc2-61ee-8001-374f24badecf'}}, tasks=(), interrupts=()),\n",
       " StateSnapshot(values={'topic': 'pizza', 'joke': 'Why did the pizza go to the therapist? Because it was feeling saucy and needed to get a little slice of advice!'}, next=('generate_explanation',), config={'configurable': {'thread_id': '1', 'checkpoint_ns': '', 'checkpoint_id': '1f06efcb-4dc2-61ee-8001-374f24badecf'}}, metadata={'source': 'loop', 'step': 1, 'parents': {}}, created_at='2025-08-01T17:26:49.362481+00:00', parent_config={'configurable': {'thread_id': '1', 'checkpoint_ns': '', 'checkpoint_id': '1f06efcb-4351-6679-8000-1f9b06789f6c'}}, tasks=(PregelTask(id='a87d368c-f774-078b-1c1d-92772715ad28', name='generate_explanation', path=('__pregel_pull', 'generate_explanation'), error=None, interrupts=(), state=None, result={'explanation': 'This joke is a play on words using a pun. In this case, \"saucy\" is a term that can mean bold, sassy, or impudent, but it also refers to the sauce on a pizza. The joke implies that the pizza needed to see a therapist because it was feeling bold and needed some advice, but also because it was made of sauce and needed a slice (piece) of advice. The humor comes from the double meaning of \"saucy\" and the pun on \"slice\" of advice. Overall, it\\'s a light-hearted and silly joke meant to make you chuckle.'}),), interrupts=()),\n",
       " StateSnapshot(values={'topic': 'pizza'}, next=('generate_joke',), config={'configurable': {'thread_id': '1', 'checkpoint_ns': '', 'checkpoint_id': '1f06efcb-4351-6679-8000-1f9b06789f6c'}}, metadata={'source': 'loop', 'step': 0, 'parents': {}}, created_at='2025-08-01T17:26:48.267736+00:00', parent_config={'configurable': {'thread_id': '1', 'checkpoint_ns': '', 'checkpoint_id': '1f06efcb-4343-6bed-bfff-45353b65b326'}}, tasks=(PregelTask(id='e79f6d57-fbf0-f10c-25f9-157a5d550320', name='generate_joke', path=('__pregel_pull', 'generate_joke'), error=None, interrupts=(), state=None, result={'joke': 'Why did the pizza go to the therapist? Because it was feeling saucy and needed to get a little slice of advice!'}),), interrupts=()),\n",
       " StateSnapshot(values={}, next=('__start__',), config={'configurable': {'thread_id': '1', 'checkpoint_ns': '', 'checkpoint_id': '1f06efcb-4343-6bed-bfff-45353b65b326'}}, metadata={'source': 'input', 'step': -1, 'parents': {}}, created_at='2025-08-01T17:26:48.262142+00:00', parent_config=None, tasks=(PregelTask(id='a444f365-d854-7c84-cd60-b5b018c5612f', name='__start__', path=('__pregel_pull', '__start__'), error=None, interrupts=(), state=None, result={'topic': 'pizza'}),), interrupts=())]"
      ]
     },
     "execution_count": 2,
     "metadata": {},
     "output_type": "execute_result"
    }
   ],
   "source": [
    "thread_id = '1'\n",
    "topic = 'pizza'\n",
    "\n",
    "# Passing the Threads ID to run the workflow\n",
    "config = {\"configurable\": {\"thread_id\": thread_id}}\n",
    "\n",
    "# return the final state only without metadata\n",
    "workflow.invoke({'topic': topic}, config=config)\n",
    "\n",
    "print(\"\\n\"+\"*\"*20+\"\\n\")\n",
    "\n",
    "# To fetch the current state or final state if the workflow is finished with metadata for the thread ID.\n",
    "print(workflow.get_state(config))\n",
    "\n",
    "print(\"\\n\"+\"*\"*20+\"\\n\")\n",
    "\n",
    "# To fetch all intermediate states with metadata for the thread ID, even after program execution.\n",
    "list(workflow.get_state_history(config))"
   ]
  },
  {
   "cell_type": "code",
   "execution_count": 5,
   "id": "bef375d1",
   "metadata": {},
   "outputs": [
    {
     "name": "stdout",
     "output_type": "stream",
     "text": [
      "\n",
      "\n",
      "STEP : 2\n",
      "Input : {'topic': 'pizza', 'joke': 'Why did the pizza go to the doctor? Because it was feeling saucy!', 'explanation': 'This joke plays on the double meaning of the word \"sauce.\" In this context, \"sauce\" typically refers to the tomato sauce that is commonly used as a base for pizza. However, the word \"sauce\" can also be used to describe someone who is behaving in a bold or cheeky manner. In this case, the pizza is \"feeling saucy\" in the sense that it is feeling bold or cheeky enough to go see the doctor for its health concerns. The humor comes from the unexpected use of the word \"saucy\" in this context and the silly image of a pizza going to the doctor.'}\n",
      "Checkpoint ID of Current Task: 1f06efcb-7aa5-6cfb-8002-5208bc7e7b8d\n",
      "List of Next Tasks to be executed : ()\n",
      "\n",
      "\n",
      "STEP : 1\n",
      "Input : {'topic': 'pizza', 'joke': 'Why did the pizza go to the doctor? Because it was feeling saucy!'}\n",
      "Checkpoint ID of Current Task: 1f06efcb-67a1-6dd3-8001-aaa308f9ce4a\n",
      "List of Next Tasks to be executed : ('generate_explanation',)\n",
      "\n",
      "\n",
      "STEP : 2\n",
      "Input : {'topic': 'pizza', 'joke': 'Why did the pizza go to the therapist? Because it was feeling saucy and needed to get a little slice of advice!', 'explanation': 'This joke is a play on words using a pun. In this case, \"saucy\" is a term that can mean bold, sassy, or impudent, but it also refers to the sauce on a pizza. The joke implies that the pizza needed to see a therapist because it was feeling bold and needed some advice, but also because it was made of sauce and needed a slice (piece) of advice. The humor comes from the double meaning of \"saucy\" and the pun on \"slice\" of advice. Overall, it\\'s a light-hearted and silly joke meant to make you chuckle.'}\n",
      "Checkpoint ID of Current Task: 1f06efcb-5e45-66b7-8002-9ae265986819\n",
      "List of Next Tasks to be executed : ()\n",
      "\n",
      "\n",
      "STEP : 1\n",
      "Input : {'topic': 'pizza', 'joke': 'Why did the pizza go to the therapist? Because it was feeling saucy and needed to get a little slice of advice!'}\n",
      "Checkpoint ID of Current Task: 1f06efcb-4dc2-61ee-8001-374f24badecf\n",
      "List of Next Tasks to be executed : ('generate_explanation',)\n",
      "\n",
      "\n",
      "STEP : 0\n",
      "Input : {'topic': 'pizza'}\n",
      "Checkpoint ID of Current Task: 1f06efcb-4351-6679-8000-1f9b06789f6c\n",
      "List of Next Tasks to be executed : ('generate_joke',)\n",
      "\n",
      "\n",
      "STEP : -1\n",
      "Input : {}\n",
      "Checkpoint ID of Current Task: 1f06efcb-4343-6bed-bfff-45353b65b326\n",
      "List of Next Tasks to be executed : ('__start__',)\n"
     ]
    }
   ],
   "source": [
    "#To analysis the node wise working\n",
    "def analysis_workflow(thread_id):\n",
    "    state_history = list(workflow.get_state_history({\"configurable\": {\"thread_id\": thread_id}}))\n",
    "\n",
    "    for i in range(len(state_history)): # len(state_history) tell the Height of the graph\n",
    "        print(\"\\n\")\n",
    "        print('STEP :',state_history[i].metadata['step'])\n",
    "        # print(state_history[i])\n",
    "        print('Input :',state_history[i].values)\n",
    "        print('Checkpoint ID of Current Task:',state_history[i].config[\"configurable\"][\"checkpoint_id\"])\n",
    "        print('List of Next Tasks to be executed :',state_history[i].next)\n",
    "        # print(state_history[i].tasks[0].result) # don't exist for end node\n",
    "        # print(state_history[i].parent_config[\"configurable\"][\"checkpoint_id\"]) #don't exist for start node\n",
    "analysis_workflow(thread_id)"
   ]
  },
  {
   "cell_type": "markdown",
   "id": "5fccccee",
   "metadata": {},
   "source": [
    "### Time Travel\n",
    "Here, we will first retrive the Checkpoint ID for a particular node by specifing node name then run workflow from the node. This would result in different value for joke and explanation."
   ]
  },
  {
   "cell_type": "code",
   "execution_count": 6,
   "id": "1a7d2e73",
   "metadata": {},
   "outputs": [
    {
     "name": "stdout",
     "output_type": "stream",
     "text": [
      "1f06efcb-4351-6679-8000-1f9b06789f6c\n",
      "{'topic': 'pizza', 'joke': 'Why did the pizza apply for a job at the bakery? It kneaded the dough!', 'explanation': 'This joke is a play on words based on a common task that is done when making bread or pizza - kneading the dough. In this joke, the pizza \"applies\" for a job at the bakery because it \"kneaded\" the dough. This is a pun, as \"kneaded\" sounds like \"needed\", implying that the pizza applied for the job because it needed to knead the dough. It is a light-hearted and whimsical joke that relies on wordplay for its humor.'}\n",
      "\n",
      "\n",
      "STEP : 2\n",
      "Input : {'topic': 'pizza', 'joke': 'Why did the pizza apply for a job at the bakery? It kneaded the dough!', 'explanation': 'This joke is a play on words based on a common task that is done when making bread or pizza - kneading the dough. In this joke, the pizza \"applies\" for a job at the bakery because it \"kneaded\" the dough. This is a pun, as \"kneaded\" sounds like \"needed\", implying that the pizza applied for the job because it needed to knead the dough. It is a light-hearted and whimsical joke that relies on wordplay for its humor.'}\n",
      "Checkpoint ID of Current Task: 1f06efd1-232c-6d68-8002-df2cf28ccd97\n",
      "List of Next Tasks to be executed : ()\n",
      "\n",
      "\n",
      "STEP : 1\n",
      "Input : {'topic': 'pizza', 'joke': 'Why did the pizza apply for a job at the bakery? It kneaded the dough!'}\n",
      "Checkpoint ID of Current Task: 1f06efd1-0801-6c04-8001-5740f1513d13\n",
      "List of Next Tasks to be executed : ('generate_explanation',)\n",
      "\n",
      "\n",
      "STEP : 2\n",
      "Input : {'topic': 'pizza', 'joke': 'Why did the pizza go to the doctor? Because it was feeling saucy!', 'explanation': 'This joke plays on the double meaning of the word \"sauce.\" In this context, \"sauce\" typically refers to the tomato sauce that is commonly used as a base for pizza. However, the word \"sauce\" can also be used to describe someone who is behaving in a bold or cheeky manner. In this case, the pizza is \"feeling saucy\" in the sense that it is feeling bold or cheeky enough to go see the doctor for its health concerns. The humor comes from the unexpected use of the word \"saucy\" in this context and the silly image of a pizza going to the doctor.'}\n",
      "Checkpoint ID of Current Task: 1f06efcb-7aa5-6cfb-8002-5208bc7e7b8d\n",
      "List of Next Tasks to be executed : ()\n",
      "\n",
      "\n",
      "STEP : 1\n",
      "Input : {'topic': 'pizza', 'joke': 'Why did the pizza go to the doctor? Because it was feeling saucy!'}\n",
      "Checkpoint ID of Current Task: 1f06efcb-67a1-6dd3-8001-aaa308f9ce4a\n",
      "List of Next Tasks to be executed : ('generate_explanation',)\n",
      "\n",
      "\n",
      "STEP : 2\n",
      "Input : {'topic': 'pizza', 'joke': 'Why did the pizza go to the therapist? Because it was feeling saucy and needed to get a little slice of advice!', 'explanation': 'This joke is a play on words using a pun. In this case, \"saucy\" is a term that can mean bold, sassy, or impudent, but it also refers to the sauce on a pizza. The joke implies that the pizza needed to see a therapist because it was feeling bold and needed some advice, but also because it was made of sauce and needed a slice (piece) of advice. The humor comes from the double meaning of \"saucy\" and the pun on \"slice\" of advice. Overall, it\\'s a light-hearted and silly joke meant to make you chuckle.'}\n",
      "Checkpoint ID of Current Task: 1f06efcb-5e45-66b7-8002-9ae265986819\n",
      "List of Next Tasks to be executed : ()\n",
      "\n",
      "\n",
      "STEP : 1\n",
      "Input : {'topic': 'pizza', 'joke': 'Why did the pizza go to the therapist? Because it was feeling saucy and needed to get a little slice of advice!'}\n",
      "Checkpoint ID of Current Task: 1f06efcb-4dc2-61ee-8001-374f24badecf\n",
      "List of Next Tasks to be executed : ('generate_explanation',)\n",
      "\n",
      "\n",
      "STEP : 0\n",
      "Input : {'topic': 'pizza'}\n",
      "Checkpoint ID of Current Task: 1f06efcb-4351-6679-8000-1f9b06789f6c\n",
      "List of Next Tasks to be executed : ('generate_joke',)\n",
      "\n",
      "\n",
      "STEP : -1\n",
      "Input : {}\n",
      "Checkpoint ID of Current Task: 1f06efcb-4343-6bed-bfff-45353b65b326\n",
      "List of Next Tasks to be executed : ('__start__',)\n"
     ]
    }
   ],
   "source": [
    "# To retrive the Checkpoint ID for a given node name and thread ID\n",
    "node_name = 'generate_joke' # '__start__', 'generate_joke' and 'generate_explanation'\n",
    "checkpoint_id = None\n",
    "state_history = list(workflow.get_state_history({\"configurable\": {\"thread_id\": thread_id}}))\n",
    "for i in range(len(state_history)):\n",
    "    try:\n",
    "        if node_name in [task.name for task in state_history[i].tasks]:\n",
    "            checkpoint_id = state_history[i].config[\"configurable\"][\"checkpoint_id\"]\n",
    "            print(checkpoint_id)\n",
    "    except Exception as e:\n",
    "        print(\"Skipping a malformed Checkpoint ID :\", e)\n",
    "\n",
    "config1 = {\"thread_id\": thread_id, \"checkpoint_id\": checkpoint_id}\n",
    "\n",
    "# Running the workflow from a particular checkpoint for a Thread ID and Checkpoint ID.\n",
    "print(workflow.invoke(None, {\"configurable\": config1}))\n",
    "\n",
    "analysis_workflow(thread_id)"
   ]
  },
  {
   "cell_type": "markdown",
   "id": "ab1b895e",
   "metadata": {},
   "source": [
    "#### Updating State\n",
    "Updating topic and re-running the workflow with new topic"
   ]
  },
  {
   "cell_type": "code",
   "execution_count": 7,
   "id": "19378d86",
   "metadata": {},
   "outputs": [
    {
     "name": "stdout",
     "output_type": "stream",
     "text": [
      "1f06efd2-70a5-6a0e-8001-8b8d97e62283 \n",
      "\n"
     ]
    },
    {
     "data": {
      "text/plain": [
       "[StateSnapshot(values={'topic': 'samosa'}, next=('generate_joke',), config={'configurable': {'thread_id': '1', 'checkpoint_ns': '', 'checkpoint_id': '1f06efd2-70a5-6a0e-8001-8b8d97e62283'}}, metadata={'source': 'update', 'step': 1, 'parents': {}}, created_at='2025-08-01T17:30:00.925646+00:00', parent_config={'configurable': {'thread_id': '1', 'checkpoint_ns': '', 'checkpoint_id': '1f06efcb-4351-6679-8000-1f9b06789f6c'}}, tasks=(PregelTask(id='0ffb1ec5-1fae-c721-3442-257abdb42755', name='generate_joke', path=('__pregel_pull', 'generate_joke'), error=None, interrupts=(), state=None, result=None),), interrupts=()),\n",
       " StateSnapshot(values={'topic': 'pizza', 'joke': 'Why did the pizza apply for a job at the bakery? It kneaded the dough!', 'explanation': 'This joke is a play on words based on a common task that is done when making bread or pizza - kneading the dough. In this joke, the pizza \"applies\" for a job at the bakery because it \"kneaded\" the dough. This is a pun, as \"kneaded\" sounds like \"needed\", implying that the pizza applied for the job because it needed to knead the dough. It is a light-hearted and whimsical joke that relies on wordplay for its humor.'}, next=(), config={'configurable': {'thread_id': '1', 'checkpoint_ns': '', 'checkpoint_id': '1f06efd1-232c-6d68-8002-df2cf28ccd97'}}, metadata={'source': 'loop', 'step': 2, 'parents': {}}, created_at='2025-08-01T17:29:25.958589+00:00', parent_config={'configurable': {'thread_id': '1', 'checkpoint_ns': '', 'checkpoint_id': '1f06efd1-0801-6c04-8001-5740f1513d13'}}, tasks=(), interrupts=()),\n",
       " StateSnapshot(values={'topic': 'pizza', 'joke': 'Why did the pizza apply for a job at the bakery? It kneaded the dough!'}, next=('generate_explanation',), config={'configurable': {'thread_id': '1', 'checkpoint_ns': '', 'checkpoint_id': '1f06efd1-0801-6c04-8001-5740f1513d13'}}, metadata={'source': 'loop', 'step': 1, 'parents': {}}, created_at='2025-08-01T17:29:23.109786+00:00', parent_config={'configurable': {'thread_id': '1', 'checkpoint_ns': '', 'checkpoint_id': '1f06efcb-4351-6679-8000-1f9b06789f6c'}}, tasks=(PregelTask(id='6689f424-337f-c3ae-4c48-10acddd88eaa', name='generate_explanation', path=('__pregel_pull', 'generate_explanation'), error=None, interrupts=(), state=None, result={'explanation': 'This joke is a play on words based on a common task that is done when making bread or pizza - kneading the dough. In this joke, the pizza \"applies\" for a job at the bakery because it \"kneaded\" the dough. This is a pun, as \"kneaded\" sounds like \"needed\", implying that the pizza applied for the job because it needed to knead the dough. It is a light-hearted and whimsical joke that relies on wordplay for its humor.'}),), interrupts=()),\n",
       " StateSnapshot(values={'topic': 'pizza', 'joke': 'Why did the pizza go to the doctor? Because it was feeling saucy!', 'explanation': 'This joke plays on the double meaning of the word \"sauce.\" In this context, \"sauce\" typically refers to the tomato sauce that is commonly used as a base for pizza. However, the word \"sauce\" can also be used to describe someone who is behaving in a bold or cheeky manner. In this case, the pizza is \"feeling saucy\" in the sense that it is feeling bold or cheeky enough to go see the doctor for its health concerns. The humor comes from the unexpected use of the word \"saucy\" in this context and the silly image of a pizza going to the doctor.'}, next=(), config={'configurable': {'thread_id': '1', 'checkpoint_ns': '', 'checkpoint_id': '1f06efcb-7aa5-6cfb-8002-5208bc7e7b8d'}}, metadata={'source': 'loop', 'step': 2, 'parents': {}}, created_at='2025-08-01T17:26:54.069477+00:00', parent_config={'configurable': {'thread_id': '1', 'checkpoint_ns': '', 'checkpoint_id': '1f06efcb-67a1-6dd3-8001-aaa308f9ce4a'}}, tasks=(), interrupts=()),\n",
       " StateSnapshot(values={'topic': 'pizza', 'joke': 'Why did the pizza go to the doctor? Because it was feeling saucy!'}, next=('generate_explanation',), config={'configurable': {'thread_id': '1', 'checkpoint_ns': '', 'checkpoint_id': '1f06efcb-67a1-6dd3-8001-aaa308f9ce4a'}}, metadata={'source': 'loop', 'step': 1, 'parents': {}}, created_at='2025-08-01T17:26:52.075566+00:00', parent_config={'configurable': {'thread_id': '1', 'checkpoint_ns': '', 'checkpoint_id': '1f06efcb-4351-6679-8000-1f9b06789f6c'}}, tasks=(PregelTask(id='dce316c4-e7bc-84ce-215b-b1e8795b6b92', name='generate_explanation', path=('__pregel_pull', 'generate_explanation'), error=None, interrupts=(), state=None, result={'explanation': 'This joke plays on the double meaning of the word \"sauce.\" In this context, \"sauce\" typically refers to the tomato sauce that is commonly used as a base for pizza. However, the word \"sauce\" can also be used to describe someone who is behaving in a bold or cheeky manner. In this case, the pizza is \"feeling saucy\" in the sense that it is feeling bold or cheeky enough to go see the doctor for its health concerns. The humor comes from the unexpected use of the word \"saucy\" in this context and the silly image of a pizza going to the doctor.'}),), interrupts=()),\n",
       " StateSnapshot(values={'topic': 'pizza', 'joke': 'Why did the pizza go to the therapist? Because it was feeling saucy and needed to get a little slice of advice!', 'explanation': 'This joke is a play on words using a pun. In this case, \"saucy\" is a term that can mean bold, sassy, or impudent, but it also refers to the sauce on a pizza. The joke implies that the pizza needed to see a therapist because it was feeling bold and needed some advice, but also because it was made of sauce and needed a slice (piece) of advice. The humor comes from the double meaning of \"saucy\" and the pun on \"slice\" of advice. Overall, it\\'s a light-hearted and silly joke meant to make you chuckle.'}, next=(), config={'configurable': {'thread_id': '1', 'checkpoint_ns': '', 'checkpoint_id': '1f06efcb-5e45-66b7-8002-9ae265986819'}}, metadata={'source': 'loop', 'step': 2, 'parents': {}}, created_at='2025-08-01T17:26:51.093983+00:00', parent_config={'configurable': {'thread_id': '1', 'checkpoint_ns': '', 'checkpoint_id': '1f06efcb-4dc2-61ee-8001-374f24badecf'}}, tasks=(), interrupts=()),\n",
       " StateSnapshot(values={'topic': 'pizza', 'joke': 'Why did the pizza go to the therapist? Because it was feeling saucy and needed to get a little slice of advice!'}, next=('generate_explanation',), config={'configurable': {'thread_id': '1', 'checkpoint_ns': '', 'checkpoint_id': '1f06efcb-4dc2-61ee-8001-374f24badecf'}}, metadata={'source': 'loop', 'step': 1, 'parents': {}}, created_at='2025-08-01T17:26:49.362481+00:00', parent_config={'configurable': {'thread_id': '1', 'checkpoint_ns': '', 'checkpoint_id': '1f06efcb-4351-6679-8000-1f9b06789f6c'}}, tasks=(PregelTask(id='a87d368c-f774-078b-1c1d-92772715ad28', name='generate_explanation', path=('__pregel_pull', 'generate_explanation'), error=None, interrupts=(), state=None, result={'explanation': 'This joke is a play on words using a pun. In this case, \"saucy\" is a term that can mean bold, sassy, or impudent, but it also refers to the sauce on a pizza. The joke implies that the pizza needed to see a therapist because it was feeling bold and needed some advice, but also because it was made of sauce and needed a slice (piece) of advice. The humor comes from the double meaning of \"saucy\" and the pun on \"slice\" of advice. Overall, it\\'s a light-hearted and silly joke meant to make you chuckle.'}),), interrupts=()),\n",
       " StateSnapshot(values={'topic': 'pizza'}, next=('generate_joke',), config={'configurable': {'thread_id': '1', 'checkpoint_ns': '', 'checkpoint_id': '1f06efcb-4351-6679-8000-1f9b06789f6c'}}, metadata={'source': 'loop', 'step': 0, 'parents': {}}, created_at='2025-08-01T17:26:48.267736+00:00', parent_config={'configurable': {'thread_id': '1', 'checkpoint_ns': '', 'checkpoint_id': '1f06efcb-4343-6bed-bfff-45353b65b326'}}, tasks=(PregelTask(id='e79f6d57-fbf0-f10c-25f9-157a5d550320', name='generate_joke', path=('__pregel_pull', 'generate_joke'), error=None, interrupts=(), state=None, result={'joke': 'Why did the pizza go to the therapist? Because it was feeling saucy and needed to get a little slice of advice!'}),), interrupts=()),\n",
       " StateSnapshot(values={}, next=('__start__',), config={'configurable': {'thread_id': '1', 'checkpoint_ns': '', 'checkpoint_id': '1f06efcb-4343-6bed-bfff-45353b65b326'}}, metadata={'source': 'input', 'step': -1, 'parents': {}}, created_at='2025-08-01T17:26:48.262142+00:00', parent_config=None, tasks=(PregelTask(id='a444f365-d854-7c84-cd60-b5b018c5612f', name='__start__', path=('__pregel_pull', '__start__'), error=None, interrupts=(), state=None, result={'topic': 'pizza'}),), interrupts=())]"
      ]
     },
     "execution_count": 7,
     "metadata": {},
     "output_type": "execute_result"
    }
   ],
   "source": [
    "topic = 'samosa'\n",
    "# It would return the new state Checkpoint ID with new topic\n",
    "new_checkpoint_id = workflow.update_state({\"configurable\": {\"thread_id\": \"1\", \"checkpoint_id\": checkpoint_id, \"checkpoint_ns\": \"\"}}, {'topic':topic})['configurable']['checkpoint_id']\n",
    "print(new_checkpoint_id,'\\n')\n",
    "\n",
    "# NOTE: time travel data will get added to the same Thread ID and Checkpoint ID.\n",
    "list(workflow.get_state_history(config))"
   ]
  },
  {
   "cell_type": "code",
   "execution_count": 8,
   "id": "58f63a80",
   "metadata": {},
   "outputs": [
    {
     "data": {
      "text/plain": [
       "[StateSnapshot(values={'topic': 'samosa', 'joke': 'Why did the samosa go to school? \\nTo become a little more well-rounded!', 'explanation': 'This joke plays on the double meaning of \"well-rounded.\" In one sense, it could mean having a complete education or a well-rounded skill set. In another sense, it could also refer to the shape of a samosa, which is typically triangular. By going to school, the samosa is hoping to become more well-rounded in both senses of the word.'}, next=(), config={'configurable': {'thread_id': '1', 'checkpoint_ns': '', 'checkpoint_id': '1f06efd4-1b56-6c47-8003-f2d8325cde4f'}}, metadata={'source': 'loop', 'step': 3, 'parents': {}}, created_at='2025-08-01T17:30:45.667539+00:00', parent_config={'configurable': {'thread_id': '1', 'checkpoint_ns': '', 'checkpoint_id': '1f06efd4-0d54-6574-8002-a359ee71dcf0'}}, tasks=(), interrupts=()),\n",
       " StateSnapshot(values={'topic': 'samosa', 'joke': 'Why did the samosa go to school? \\nTo become a little more well-rounded!'}, next=('generate_explanation',), config={'configurable': {'thread_id': '1', 'checkpoint_ns': '', 'checkpoint_id': '1f06efd4-0d54-6574-8002-a359ee71dcf0'}}, metadata={'source': 'loop', 'step': 2, 'parents': {}}, created_at='2025-08-01T17:30:44.198539+00:00', parent_config={'configurable': {'thread_id': '1', 'checkpoint_ns': '', 'checkpoint_id': '1f06efd2-70a5-6a0e-8001-8b8d97e62283'}}, tasks=(PregelTask(id='627c3fcd-2afe-ceaf-b0d5-266798e0a159', name='generate_explanation', path=('__pregel_pull', 'generate_explanation'), error=None, interrupts=(), state=None, result={'explanation': 'This joke plays on the double meaning of \"well-rounded.\" In one sense, it could mean having a complete education or a well-rounded skill set. In another sense, it could also refer to the shape of a samosa, which is typically triangular. By going to school, the samosa is hoping to become more well-rounded in both senses of the word.'}),), interrupts=()),\n",
       " StateSnapshot(values={'topic': 'samosa'}, next=('generate_joke',), config={'configurable': {'thread_id': '1', 'checkpoint_ns': '', 'checkpoint_id': '1f06efd2-70a5-6a0e-8001-8b8d97e62283'}}, metadata={'source': 'update', 'step': 1, 'parents': {}}, created_at='2025-08-01T17:30:00.925646+00:00', parent_config={'configurable': {'thread_id': '1', 'checkpoint_ns': '', 'checkpoint_id': '1f06efcb-4351-6679-8000-1f9b06789f6c'}}, tasks=(PregelTask(id='0ffb1ec5-1fae-c721-3442-257abdb42755', name='generate_joke', path=('__pregel_pull', 'generate_joke'), error=None, interrupts=(), state=None, result={'joke': 'Why did the samosa go to school? \\nTo become a little more well-rounded!'}),), interrupts=()),\n",
       " StateSnapshot(values={'topic': 'pizza', 'joke': 'Why did the pizza apply for a job at the bakery? It kneaded the dough!', 'explanation': 'This joke is a play on words based on a common task that is done when making bread or pizza - kneading the dough. In this joke, the pizza \"applies\" for a job at the bakery because it \"kneaded\" the dough. This is a pun, as \"kneaded\" sounds like \"needed\", implying that the pizza applied for the job because it needed to knead the dough. It is a light-hearted and whimsical joke that relies on wordplay for its humor.'}, next=(), config={'configurable': {'thread_id': '1', 'checkpoint_ns': '', 'checkpoint_id': '1f06efd1-232c-6d68-8002-df2cf28ccd97'}}, metadata={'source': 'loop', 'step': 2, 'parents': {}}, created_at='2025-08-01T17:29:25.958589+00:00', parent_config={'configurable': {'thread_id': '1', 'checkpoint_ns': '', 'checkpoint_id': '1f06efd1-0801-6c04-8001-5740f1513d13'}}, tasks=(), interrupts=()),\n",
       " StateSnapshot(values={'topic': 'pizza', 'joke': 'Why did the pizza apply for a job at the bakery? It kneaded the dough!'}, next=('generate_explanation',), config={'configurable': {'thread_id': '1', 'checkpoint_ns': '', 'checkpoint_id': '1f06efd1-0801-6c04-8001-5740f1513d13'}}, metadata={'source': 'loop', 'step': 1, 'parents': {}}, created_at='2025-08-01T17:29:23.109786+00:00', parent_config={'configurable': {'thread_id': '1', 'checkpoint_ns': '', 'checkpoint_id': '1f06efcb-4351-6679-8000-1f9b06789f6c'}}, tasks=(PregelTask(id='6689f424-337f-c3ae-4c48-10acddd88eaa', name='generate_explanation', path=('__pregel_pull', 'generate_explanation'), error=None, interrupts=(), state=None, result={'explanation': 'This joke is a play on words based on a common task that is done when making bread or pizza - kneading the dough. In this joke, the pizza \"applies\" for a job at the bakery because it \"kneaded\" the dough. This is a pun, as \"kneaded\" sounds like \"needed\", implying that the pizza applied for the job because it needed to knead the dough. It is a light-hearted and whimsical joke that relies on wordplay for its humor.'}),), interrupts=()),\n",
       " StateSnapshot(values={'topic': 'pizza', 'joke': 'Why did the pizza go to the doctor? Because it was feeling saucy!', 'explanation': 'This joke plays on the double meaning of the word \"sauce.\" In this context, \"sauce\" typically refers to the tomato sauce that is commonly used as a base for pizza. However, the word \"sauce\" can also be used to describe someone who is behaving in a bold or cheeky manner. In this case, the pizza is \"feeling saucy\" in the sense that it is feeling bold or cheeky enough to go see the doctor for its health concerns. The humor comes from the unexpected use of the word \"saucy\" in this context and the silly image of a pizza going to the doctor.'}, next=(), config={'configurable': {'thread_id': '1', 'checkpoint_ns': '', 'checkpoint_id': '1f06efcb-7aa5-6cfb-8002-5208bc7e7b8d'}}, metadata={'source': 'loop', 'step': 2, 'parents': {}}, created_at='2025-08-01T17:26:54.069477+00:00', parent_config={'configurable': {'thread_id': '1', 'checkpoint_ns': '', 'checkpoint_id': '1f06efcb-67a1-6dd3-8001-aaa308f9ce4a'}}, tasks=(), interrupts=()),\n",
       " StateSnapshot(values={'topic': 'pizza', 'joke': 'Why did the pizza go to the doctor? Because it was feeling saucy!'}, next=('generate_explanation',), config={'configurable': {'thread_id': '1', 'checkpoint_ns': '', 'checkpoint_id': '1f06efcb-67a1-6dd3-8001-aaa308f9ce4a'}}, metadata={'source': 'loop', 'step': 1, 'parents': {}}, created_at='2025-08-01T17:26:52.075566+00:00', parent_config={'configurable': {'thread_id': '1', 'checkpoint_ns': '', 'checkpoint_id': '1f06efcb-4351-6679-8000-1f9b06789f6c'}}, tasks=(PregelTask(id='dce316c4-e7bc-84ce-215b-b1e8795b6b92', name='generate_explanation', path=('__pregel_pull', 'generate_explanation'), error=None, interrupts=(), state=None, result={'explanation': 'This joke plays on the double meaning of the word \"sauce.\" In this context, \"sauce\" typically refers to the tomato sauce that is commonly used as a base for pizza. However, the word \"sauce\" can also be used to describe someone who is behaving in a bold or cheeky manner. In this case, the pizza is \"feeling saucy\" in the sense that it is feeling bold or cheeky enough to go see the doctor for its health concerns. The humor comes from the unexpected use of the word \"saucy\" in this context and the silly image of a pizza going to the doctor.'}),), interrupts=()),\n",
       " StateSnapshot(values={'topic': 'pizza', 'joke': 'Why did the pizza go to the therapist? Because it was feeling saucy and needed to get a little slice of advice!', 'explanation': 'This joke is a play on words using a pun. In this case, \"saucy\" is a term that can mean bold, sassy, or impudent, but it also refers to the sauce on a pizza. The joke implies that the pizza needed to see a therapist because it was feeling bold and needed some advice, but also because it was made of sauce and needed a slice (piece) of advice. The humor comes from the double meaning of \"saucy\" and the pun on \"slice\" of advice. Overall, it\\'s a light-hearted and silly joke meant to make you chuckle.'}, next=(), config={'configurable': {'thread_id': '1', 'checkpoint_ns': '', 'checkpoint_id': '1f06efcb-5e45-66b7-8002-9ae265986819'}}, metadata={'source': 'loop', 'step': 2, 'parents': {}}, created_at='2025-08-01T17:26:51.093983+00:00', parent_config={'configurable': {'thread_id': '1', 'checkpoint_ns': '', 'checkpoint_id': '1f06efcb-4dc2-61ee-8001-374f24badecf'}}, tasks=(), interrupts=()),\n",
       " StateSnapshot(values={'topic': 'pizza', 'joke': 'Why did the pizza go to the therapist? Because it was feeling saucy and needed to get a little slice of advice!'}, next=('generate_explanation',), config={'configurable': {'thread_id': '1', 'checkpoint_ns': '', 'checkpoint_id': '1f06efcb-4dc2-61ee-8001-374f24badecf'}}, metadata={'source': 'loop', 'step': 1, 'parents': {}}, created_at='2025-08-01T17:26:49.362481+00:00', parent_config={'configurable': {'thread_id': '1', 'checkpoint_ns': '', 'checkpoint_id': '1f06efcb-4351-6679-8000-1f9b06789f6c'}}, tasks=(PregelTask(id='a87d368c-f774-078b-1c1d-92772715ad28', name='generate_explanation', path=('__pregel_pull', 'generate_explanation'), error=None, interrupts=(), state=None, result={'explanation': 'This joke is a play on words using a pun. In this case, \"saucy\" is a term that can mean bold, sassy, or impudent, but it also refers to the sauce on a pizza. The joke implies that the pizza needed to see a therapist because it was feeling bold and needed some advice, but also because it was made of sauce and needed a slice (piece) of advice. The humor comes from the double meaning of \"saucy\" and the pun on \"slice\" of advice. Overall, it\\'s a light-hearted and silly joke meant to make you chuckle.'}),), interrupts=()),\n",
       " StateSnapshot(values={'topic': 'pizza'}, next=('generate_joke',), config={'configurable': {'thread_id': '1', 'checkpoint_ns': '', 'checkpoint_id': '1f06efcb-4351-6679-8000-1f9b06789f6c'}}, metadata={'source': 'loop', 'step': 0, 'parents': {}}, created_at='2025-08-01T17:26:48.267736+00:00', parent_config={'configurable': {'thread_id': '1', 'checkpoint_ns': '', 'checkpoint_id': '1f06efcb-4343-6bed-bfff-45353b65b326'}}, tasks=(PregelTask(id='e79f6d57-fbf0-f10c-25f9-157a5d550320', name='generate_joke', path=('__pregel_pull', 'generate_joke'), error=None, interrupts=(), state=None, result={'joke': 'Why did the pizza go to the therapist? Because it was feeling saucy and needed to get a little slice of advice!'}),), interrupts=()),\n",
       " StateSnapshot(values={}, next=('__start__',), config={'configurable': {'thread_id': '1', 'checkpoint_ns': '', 'checkpoint_id': '1f06efcb-4343-6bed-bfff-45353b65b326'}}, metadata={'source': 'input', 'step': -1, 'parents': {}}, created_at='2025-08-01T17:26:48.262142+00:00', parent_config=None, tasks=(PregelTask(id='a444f365-d854-7c84-cd60-b5b018c5612f', name='__start__', path=('__pregel_pull', '__start__'), error=None, interrupts=(), state=None, result={'topic': 'pizza'}),), interrupts=())]"
      ]
     },
     "execution_count": 8,
     "metadata": {},
     "output_type": "execute_result"
    }
   ],
   "source": [
    "workflow.invoke(None, {\"configurable\": {\"thread_id\": \"1\", \"checkpoint_id\": new_checkpoint_id}})\n",
    "\n",
    "list(workflow.get_state_history(config))"
   ]
  },
  {
   "cell_type": "markdown",
   "id": "d8435127",
   "metadata": {},
   "source": [
    "### Fault Tolerance\n",
    "This is another workflow where we will simulate long-running hang or error and try to re-run from the error.\n",
    "\n",
    "NOTE: It will work in Google Collab."
   ]
  },
  {
   "cell_type": "code",
   "execution_count": null,
   "id": "13365a36",
   "metadata": {},
   "outputs": [
    {
     "data": {
      "image/png": "[encoded data removed]",
      "text/plain": [
       "<langgraph.graph.state.CompiledStateGraph object at 0x000001BF56F6C560>"
      ]
     },
     "execution_count": 10,
     "metadata": {},
     "output_type": "execute_result"
    }
   ],
   "source": [
    "# Define the state\n",
    "class CrashState(TypedDict):\n",
    "    input: str\n",
    "    step1: str\n",
    "    step2: str\n",
    "\n",
    "# Define steps\n",
    "def step_1(state: CrashState) -> CrashState:\n",
    "    print(\"✅ Step 1 executed\")\n",
    "    return {\"step1\": \"done\", \"input\": state[\"input\"]}\n",
    "\n",
    "def step_2(state: CrashState) -> CrashState:\n",
    "    print(\"⏳ Step 2 hanging... now manually interrupt from the notebook toolbar (STOP button)\")\n",
    "    time.sleep(1000)  # Simulate long-running hang\n",
    "    return {\"step2\": \"done\"}\n",
    "\n",
    "def step_3(state: CrashState) -> CrashState:\n",
    "    print(\"✅ Step 3 executed\")\n",
    "    return {\"done\": True}\n",
    "\n",
    "# Build the graph\n",
    "builder = StateGraph(CrashState)\n",
    "builder.add_node(\"step_1\", step_1)\n",
    "builder.add_node(\"step_2\", step_2)\n",
    "builder.add_node(\"step_3\", step_3)\n",
    "\n",
    "builder.set_entry_point(\"step_1\")\n",
    "builder.add_edge(\"step_1\", \"step_2\")\n",
    "builder.add_edge(\"step_2\", \"step_3\")\n",
    "builder.add_edge(\"step_3\", END)\n",
    "\n",
    "checkpointer = InMemorySaver()\n",
    "graph = builder.compile(checkpointer=checkpointer)\n",
    "\n",
    "input = 'start'\n",
    "thread_id = 'thread-1'\n",
    "\n",
    "# Running the workflow where user need to interrupt the kernel in google collab.\n",
    "try:\n",
    "    print(\"▶️ Running graph: Please manually interrupt during Step 2...\")\n",
    "    graph.invoke({\"input\": input}, config={\"configurable\": {\"thread_id\": thread_id}})\n",
    "except KeyboardInterrupt:\n",
    "    print(\"❌ Kernel manually interrupted (crash simulated).\")"
   ]
  },
  {
   "cell_type": "code",
   "execution_count": null,
   "id": "95df3f98",
   "metadata": {},
   "outputs": [],
   "source": [
    "# Re-run to show fault-tolerant resume\n",
    "print(\"\\n🔁 Re-running the graph to demonstrate fault tolerance...\")\n",
    "final_state = graph.invoke(None, config={\"configurable\": {\"thread_id\": 'thread-1'}})\n",
    "print(\"\\n✅ Final State:\", final_state)\n",
    "\n",
    "list(graph.get_state_history({\"configurable\": {\"thread_id\": 'thread-1'}}))"
   ]
  }
 ],
 "metadata": {
  "kernelspec": {
   "display_name": "Agent",
   "language": "python",
   "name": "agent"
  },
  "language_info": {
   "codemirror_mode": {
    "name": "ipython",
    "version": 3
   },
   "file_extension": ".py",
   "mimetype": "text/x-python",
   "name": "python",
   "nbconvert_exporter": "python",
   "pygments_lexer": "ipython3",
   "version": "3.12.7"
  }
 },
 "nbformat": 4,
 "nbformat_minor": 5
}

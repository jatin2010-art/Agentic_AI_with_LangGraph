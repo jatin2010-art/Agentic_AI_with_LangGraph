{
 "cells": [
  {
   "cell_type": "code",
   "execution_count": 1,
   "id": "60158721",
   "metadata": {},
   "outputs": [],
   "source": [
    "from langgraph.graph import StateGraph, START, END\n",
    "from langchain_openai import ChatOpenAI\n",
    "from typing import TypedDict\n",
    "from dotenv import load_dotenv\n",
    "load_dotenv()"
   ]
  },
  {
   "cell_type": "code",
   "execution_count": 2,
   "id": "ec5df008",
   "metadata": {},
   "outputs": [],
   "source": [
    "model = ChatOpenAI()"
   ]
  },
  {
   "cell_type": "code",
   "execution_count": 9,
   "id": "6026826c",
   "metadata": {},
   "outputs": [],
   "source": [
    "class BlogState(TypedDict):\n",
    "    \n",
    "    title: str\n",
    "    outline: str\n",
    "    content: str\n",
    "    score: int"
   ]
  },
  {
   "cell_type": "code",
   "execution_count": 18,
   "id": "78c718e4",
   "metadata": {},
   "outputs": [],
   "source": [
    "def create_outline(state: BlogState) -> BlogState:\n",
    "\n",
    "    # fatch the title\n",
    "    title = state['title']\n",
    "\n",
    "    # create the prompt\n",
    "    prompt = f\"create an outline for a blog post with the title: {title}\"\n",
    "\n",
    "    # call the model\n",
    "    outline = model.invoke(prompt).content\n",
    "\n",
    "    # update the state\n",
    "    state['outline'] = outline\n",
    "    \n",
    "    return state\n",
    "\n",
    "def create_blog(state: BlogState) -> BlogState:\n",
    "\n",
    "    # fatch the outline\n",
    "    outline = state['outline']\n",
    "\n",
    "    # fatch the title\n",
    "    title = state['title']\n",
    "\n",
    "    # create the prompt\n",
    "    prompt = f\"create a blog post with the title: {title} and the outline: \\n {outline}\"\n",
    "\n",
    "    # call the model\n",
    "    content = model.invoke(prompt).content\n",
    "\n",
    "    state['content'] = content\n",
    "\n",
    "    return state\n",
    "\n",
    "def score_blog(state: BlogState) -> BlogState:\n",
    "\n",
    "    # fatch the content, title and outline\n",
    "    content = state['content']\n",
    "    title = state['title']\n",
    "    outline = state['outline']\n",
    "\n",
    "    # create the prompt\n",
    "    prompt = f\"score the blog post with the title: {title}, outline: {outline} and content: \\n {content} in integer. The score should be between 1 and 10. Examples: 8, 2, 10 etc. Do not return any other text, just the score.\"\n",
    "\n",
    "    # call the model\n",
    "    score = model.invoke(prompt).content\n",
    "\n",
    "    state['score'] = int(score)\n",
    "\n",
    "    return state"
   ]
  },
  {
   "cell_type": "code",
   "execution_count": 19,
   "id": "e378effe",
   "metadata": {},
   "outputs": [
    {
     "data": {
      "image/png": "[encoded data removed]",
      "text/plain": [
       "<langgraph.graph.state.CompiledStateGraph object at 0x0000025722403BC0>"
      ]
     },
     "execution_count": 19,
     "metadata": {},
     "output_type": "execute_result"
    }
   ],
   "source": [
    "graph = StateGraph(BlogState)\n",
    "\n",
    "# nodes\n",
    "graph.add_node('create_outline',create_outline)\n",
    "graph.add_node('create_blog',create_blog)\n",
    "graph.add_node('score_blog',score_blog)\n",
    "\n",
    "# edges\n",
    "graph.add_edge(START, 'create_outline')\n",
    "graph.add_edge('create_outline', 'create_blog')\n",
    "graph.add_edge('create_blog', 'score_blog')\n",
    "graph.add_edge('score_blog', END)\n",
    "\n",
    "workflow = graph.compile()\n",
    "workflow"
   ]
  },
  {
   "cell_type": "code",
   "execution_count": 20,
   "id": "bdcd67d6",
   "metadata": {},
   "outputs": [
    {
     "name": "stdout",
     "output_type": "stream",
     "text": [
      "{'title': 'Rise of AI in India', 'outline': \"I. Introduction\\n    A. Introduce the topic of AI technology in India\\n    B. Briefly explain the significance of AI in India's development\\nII. History of AI in India\\n    A. Overview of the growth and development of AI technology in India\\n    B. Key milestones and achievements in the field of AI in India\\nIII. Current state of AI in India\\n    A. Discuss the current trends and advancements in AI technology in India\\n    B. Highlight key industries and sectors that are utilizing AI in India\\nIV. Impact of AI on Indian society and economy\\n    A. Discuss the potential benefits and challenges of AI technology in India\\n    B. Analyze the role of AI in shaping India's future economy and society\\nV. Government initiatives and policies promoting AI in India\\n    A. Overview of government programs and initiatives supporting AI development in India\\n    B. Analysis of the impact of government policies on the growth of AI in India\\nVI. Future prospects of AI in India\\n    A. Discuss the potential growth and impact of AI technology in India in the coming years\\n    B. Predictions for the future of AI in India and its role in shaping the country's development\\nVII. Conclusion\\n    A. Summarize key points discussed in the blog post\\n    B. Provide final thoughts on the rise of AI in India and its implications for the country's future.\", 'content': \"The rise of AI technology in India has been nothing short of remarkable in recent years. With advancements in artificial intelligence revolutionizing various industries and sectors, the country has seen a significant impact on its economy and society. In this blog post, we will explore the history, current state, and future prospects of AI in India, as well as its implications for the country's development.\\n\\nI. Introduction\\n\\nArtificial intelligence, or AI, has become a key driver of innovation and growth in India. With the potential to transform industries, improve efficiency, and drive economic development, AI is playing an increasingly important role in shaping the country's future.\\n\\nII. History of AI in India\\n\\nOver the years, India has made significant strides in the field of AI, with a number of key milestones and achievements to its name. From early research and development efforts to the emergence of leading AI companies, India has established itself as a major player in the global AI landscape.\\n\\nIII. Current state of AI in India\\n\\nToday, AI technology in India is witnessing rapid growth and adoption across various industries, including healthcare, finance, agriculture, and more. With advancements in machine learning, natural language processing, and robotics, India is leveraging AI to drive innovation and competitiveness.\\n\\nIV. Impact of AI on Indian society and economy\\n\\nThe adoption of AI technology in India is expected to have a profound impact on society and the economy. While AI has the potential to create new opportunities and improve efficiency, it also raises concerns about job displacement, data privacy, and ethical implications.\\n\\nV. Government initiatives and policies promoting AI in India\\n\\nRecognizing the potential of AI technology, the Indian government has launched several initiatives and programs to support its development. From the National AI Portal to the National Programme on Artificial Intelligence, the government is taking steps to accelerate AI adoption and innovation in the country.\\n\\nVI. Future prospects of AI in India\\n\\nLooking ahead, the future of AI in India is bright, with the technology expected to play a key role in shaping the country's development. With initiatives like the AI for All program and the National AI Strategy, India is poised to become a global leader in AI innovation.\\n\\nVII. Conclusion\\n\\nIn conclusion, the rise of AI technology in India is set to have a transformative impact on the country's economy and society. With a strong history of innovation, a growing ecosystem of AI startups, and government support for AI development, India is well-positioned to leverage artificial intelligence for sustainable growth and development. As we look towards the future, the implications of AI in India are immense, and the country's ability to harness this technology will be crucial in determining its future trajectory.\", 'score': 9}\n"
     ]
    }
   ],
   "source": [
    "initial_state = {'title': 'Rise of AI in India'}\n",
    "final_state = workflow.invoke(initial_state)\n",
    "\n",
    "print(final_state)"
   ]
  },
  {
   "cell_type": "code",
   "execution_count": null,
   "id": "1f41f531",
   "metadata": {},
   "outputs": [
    {
     "name": "stdout",
     "output_type": "stream",
     "text": [
      "I. Introduction\n",
      "    A. Brief overview of the increasing presence of artificial intelligence (AI) in India\n",
      "    B. Why AI is becoming more prevalent in various industries in the country\n",
      "\n",
      "II. Current Landscape of AI in India\n",
      "    A. Statistics and data on the growth of AI technology in India\n",
      "    B. Major companies and organizations leading the way in AI development\n",
      "    C. Examples of AI applications in different sectors such as healthcare, finance, and education\n",
      "\n",
      "III. Benefits of AI in India\n",
      "    A. Improved efficiency and productivity\n",
      "    B. Enhanced customer experiences\n",
      "    C. Opportunities for job creation and growth in the tech industry\n",
      "\n",
      "IV. Challenges and Concerns\n",
      "    A. Ethical considerations surrounding AI development and implementation\n",
      "    B. Potential job displacement and the need for upskilling the workforce\n",
      "    C. Data privacy and security issues\n",
      "\n",
      "V. Government Initiatives and Policies\n",
      "    A. Overview of the Indian government's stance on AI technology\n",
      "    B. Policies and regulations in place to support the development of AI in India\n",
      "\n",
      "VI. Future Outlook of AI in India\n",
      "    A. Predictions for the continued growth and impact of AI in the country\n",
      "    B. Potential areas of growth and innovation in AI technology\n",
      "    C. How Indian businesses and individuals can prepare for the AI revolution\n",
      "\n",
      "VII. Conclusion\n",
      "    A. Recap of key points discussed in the blog post\n",
      "    B. Final thoughts on the rise of AI in India and its implications for the future of the country.\n"
     ]
    }
   ],
   "source": [
    "print(final_state['outline'])"
   ]
  },
  {
   "cell_type": "code",
   "execution_count": 8,
   "id": "ed30ae38",
   "metadata": {},
   "outputs": [
    {
     "name": "stdout",
     "output_type": "stream",
     "text": [
      "Artificial intelligence (AI) is rapidly transforming various industries in India, playing a significant role in enhancing efficiency, productivity, and customer experiences. As the country continues to embrace AI technology, it is essential to understand the current landscape, benefits, challenges, and future outlook of AI in India.\n",
      "\n",
      "The rise of AI in India has been fueled by advancements in technology, increased investment in research and development, and a growing demand for automation in various sectors. Companies and organizations in India are at the forefront of AI development, leveraging this technology to improve decision-making processes, streamline operations, and drive innovation.\n",
      "\n",
      "AI applications in healthcare, finance, education, and other industries are revolutionizing the way businesses operate and deliver services to customers. From predictive analytics in healthcare to personalized recommendations in e-commerce, AI is transforming the way businesses engage with their audience and drive growth.\n",
      "\n",
      "While the benefits of AI in India are undeniable, there are also challenges and concerns that need to be addressed. Ethical considerations, job displacement, and data privacy issues are some of the key challenges that need to be navigated as the country continues to adopt AI technology. Upskilling the workforce and implementing robust policies and regulations are crucial to ensuring the responsible development and deployment of AI in India.\n",
      "\n",
      "The Indian government has also recognized the importance of AI technology and has introduced initiatives and policies to support its growth. By fostering a conducive environment for innovation and collaboration, the government aims to position India as a global leader in AI technology.\n",
      "\n",
      "Looking ahead, the future of AI in India holds immense potential for continued growth and innovation. Predictions suggest that AI will continue to transform industries, create new job opportunities, and drive economic growth in the country. Businesses and individuals in India can prepare for the AI revolution by investing in training and education, embracing new technologies, and staying abreast of the latest advancements in AI.\n",
      "\n",
      "In conclusion, the rise of AI in India is a transformative trend that is reshaping the country's economy, society, and culture. By understanding the current landscape, benefits, challenges, and future outlook of AI in India, stakeholders can navigate the complexities of this technological revolution and harness its potential for positive change.\n"
     ]
    }
   ],
   "source": [
    "print(final_state['content'])"
   ]
  },
  {
   "cell_type": "code",
   "execution_count": 21,
   "id": "51e485d7",
   "metadata": {},
   "outputs": [
    {
     "name": "stdout",
     "output_type": "stream",
     "text": [
      "9\n"
     ]
    }
   ],
   "source": [
    "print(final_state['score'])"
   ]
  },
  {
   "cell_type": "code",
   "execution_count": null,
   "id": "136bfe73",
   "metadata": {},
   "outputs": [],
   "source": []
  }
 ],
 "metadata": {
  "kernelspec": {
   "display_name": "Agent",
   "language": "python",
   "name": "agent"
  },
  "language_info": {
   "codemirror_mode": {
    "name": "ipython",
    "version": 3
   },
   "file_extension": ".py",
   "mimetype": "text/x-python",
   "name": "python",
   "nbconvert_exporter": "python",
   "pygments_lexer": "ipython3",
   "version": "3.12.7"
  }
 },
 "nbformat": 4,
 "nbformat_minor": 5
}

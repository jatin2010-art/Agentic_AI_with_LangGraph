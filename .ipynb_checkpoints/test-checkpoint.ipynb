{
 "cells": [
  {
   "cell_type": "markdown",
   "id": "830d32f3",
   "metadata": {},
   "source": [
    "creating a new environment\n",
    "`conda create -n agent`\n",
    "\n",
    "activating the environment\n",
    "`conda activate agent`\n",
    "\n",
    "install dependencies\n",
    "`pip install dotenv, langchain_openai, langchain, langgraph`\n",
    "\n",
    "we are using jupyter notebook as we can easily print the graphs."
   ]
  },
  {
   "cell_type": "code",
   "execution_count": 2,
   "id": "88708859",
   "metadata": {},
   "outputs": [],
   "source": [
    "from langgraph.graph import StateGraph"
   ]
  },
  {
   "cell_type": "code",
   "execution_count": null,
   "id": "8fd6416f",
   "metadata": {},
   "outputs": [],
   "source": []
  }
 ],
 "metadata": {
  "kernelspec": {
   "display_name": "Agent",
   "language": "python",
   "name": "agent"
  },
  "language_info": {
   "codemirror_mode": {
    "name": "ipython",
    "version": 3
   },
   "file_extension": ".py",
   "mimetype": "text/x-python",
   "name": "python",
   "nbconvert_exporter": "python",
   "pygments_lexer": "ipython3",
   "version": "3.12.7"
  }
 },
 "nbformat": 4,
 "nbformat_minor": 5
}
